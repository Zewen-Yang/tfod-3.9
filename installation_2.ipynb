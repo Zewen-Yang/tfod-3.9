{
 "cells": [
  {
   "attachments": {},
   "cell_type": "markdown",
   "metadata": {},
   "source": [
    "## 1.create a new env\n",
    "% virtualenv tfod-3.9 -p python3.9   \n",
    "\n",
    "### activate it\n",
    "% source tfod-3.9/bin/activate\n",
    "\n",
    "\n",
    "pip install --upgrade pip\n",
    "\n",
    "pip install ipykernel\n"
   ]
  },
  {
   "attachments": {},
   "cell_type": "markdown",
   "metadata": {},
   "source": [
    "## 2. install tensorflow\n",
    "\n",
    "https://github.com/tensorflow/models/issues/10479\n",
    "\n",
    "pip install tensorflow-macos==2.9.0\n",
    "\n",
    "pip install tensorflow-metal==0.5.0\n",
    "\n",
    "pip install tensorflow_datasets\n",
    "\n",
    "pip install tensorflow-addons"
   ]
  },
  {
   "attachments": {},
   "cell_type": "markdown",
   "metadata": {},
   "source": [
    "## 3. reinstall numpy\n",
    "pip uninstall numpy -y\n",
    "pip install numpy"
   ]
  },
  {
   "attachments": {},
   "cell_type": "markdown",
   "metadata": {},
   "source": [
    "## 4. Test tensorflow"
   ]
  },
  {
   "cell_type": "code",
   "execution_count": 1,
   "metadata": {},
   "outputs": [
    {
     "name": "stdout",
     "output_type": "stream",
     "text": [
      "Metal device set to: Apple M1 Pro\n",
      "\n",
      "systemMemory: 16.00 GB\n",
      "maxCacheSize: 5.33 GB\n",
      "\n",
      "tf.Tensor(-1497.2361, shape=(), dtype=float32)\n"
     ]
    },
    {
     "name": "stderr",
     "output_type": "stream",
     "text": [
      "2023-03-10 18:06:53.407561: I tensorflow/core/common_runtime/pluggable_device/pluggable_device_factory.cc:305] Could not identify NUMA node of platform GPU ID 0, defaulting to 0. Your kernel may not have been built with NUMA support.\n",
      "2023-03-10 18:06:53.407728: I tensorflow/core/common_runtime/pluggable_device/pluggable_device_factory.cc:271] Created TensorFlow device (/job:localhost/replica:0/task:0/device:GPU:0 with 0 MB memory) -> physical PluggableDevice (device: 0, name: METAL, pci bus id: <undefined>)\n"
     ]
    }
   ],
   "source": [
    "import tensorflow as tf\n",
    "\n",
    "print(tf.reduce_sum(tf.random.normal([1000, 1000])))"
   ]
  },
  {
   "attachments": {},
   "cell_type": "markdown",
   "metadata": {},
   "source": [
    "## 5."
   ]
  },
  {
   "attachments": {},
   "cell_type": "markdown",
   "metadata": {},
   "source": [
    "pip install tf-slim\n",
    "\n",
    "pip install pycocotools\n",
    "\n",
    "pip install lxml\n",
    "\n",
    "pip install lvis\n",
    "\n",
    "pip install contextlib2\n",
    "\n",
    "pip install --no-dependencies tf-models-official\n",
    "\n",
    "pip install avro-python3\n",
    "\n",
    "pip install pyyaml\n",
    "\n",
    "pip install gin-config\n",
    "\n",
    "pip install cython\n",
    "\n",
    "pip install typeguard"
   ]
  },
  {
   "attachments": {},
   "cell_type": "markdown",
   "metadata": {},
   "source": [
    "## 6. Install tensorflow-io"
   ]
  },
  {
   "attachments": {},
   "cell_type": "markdown",
   "metadata": {},
   "source": [
    "\n",
    "https://github.com/tensorflow/io/issues/1643#issuecomment-1044384479\n",
    "\n",
    "git clone https://github.com/tensorflow/io.git\n",
    "\n",
    "cd io \n",
    "\n",
    "rm -r dist/*\n",
    "\n",
    "export MACOSX_DEPLOYMENT_TARGET=\"$(sw_vers -productVersion)\"\n",
    "\n",
    "python3 setup.py -q bdist_wheel --project tensorflow_io_gcs_filesystem\n",
    "\n",
    "pip install --no-dependencies dist/tensorflow_io_gcs_filesystem-0.31.0-cp39-cp39-macosx_13_0_universal2.whl\n",
    " <!-- pip install --no-dependencies dist/tensorflow_io-0.31.0-cp310-cp310-macosx_13_0_arm64.whl  ## in conda env -->\n",
    "\n",
    "python3 setup.py -q bdist_wheel\n",
    "\n",
    "pip install --no-dependencies dist/tensorflow_io-0.31.0-cp39-cp39-macosx_13_0_universal2.whl \n",
    "<!-- pip install --no-dependencies dist/tensorflow_io-0.31.0-cp39-cp39-macosx_13_0_arm64.whl   ## in conda  -->\n",
    "\n"
   ]
  },
  {
   "attachments": {},
   "cell_type": "markdown",
   "metadata": {},
   "source": [
    "## 7. Install TensorFlow OD API"
   ]
  },
  {
   "attachments": {},
   "cell_type": "markdown",
   "metadata": {},
   "source": [
    "cd ..\n",
    "\n",
    "git clone https://github.com/tensorflow/models.git\n",
    "\n",
    "cd models/research\n",
    "\n",
    "cp object_detection/packages/tf2/setup.py .\n",
    "\n",
    "python -m pip install --force --no-dependencies .\n",
    "\n",
    "pip uninstall protobuf\n",
    "\n",
    "pip install protobuf==3.20.3\n",
    "\n",
    "pip install libprotobuf-3.20.3\n",
    "\n",
    "pip install libprotobuf \n",
    "\n",
    "pip install scipy\n"
   ]
  },
  {
   "attachments": {},
   "cell_type": "markdown",
   "metadata": {},
   "source": [
    "## 8. Test API"
   ]
  },
  {
   "attachments": {},
   "cell_type": "markdown",
   "metadata": {},
   "source": [
    "python object_detection/builders/model_builder_tf2_test.py "
   ]
  }
 ],
 "metadata": {
  "kernelspec": {
   "display_name": "tfod-3.9",
   "language": "python",
   "name": "python3"
  },
  "language_info": {
   "codemirror_mode": {
    "name": "ipython",
    "version": 3
   },
   "file_extension": ".py",
   "mimetype": "text/x-python",
   "name": "python",
   "nbconvert_exporter": "python",
   "pygments_lexer": "ipython3",
   "version": "3.9.6"
  },
  "orig_nbformat": 4
 },
 "nbformat": 4,
 "nbformat_minor": 2
}
